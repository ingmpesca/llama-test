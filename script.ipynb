{
 "cells": [
  {
   "cell_type": "code",
   "execution_count": 9,
   "metadata": {},
   "outputs": [],
   "source": [
    "# # Instalar las librerías necesarias para ejecutar el script\n",
    "# %pip install openai\n",
    "# %pip install llama-index\n",
    "# %pip install pypdf\n",
    "# %pip install langchain\n",
    "# %pip install \"unstructured[all-docs]\"\n",
    "# %pip install faiss-gpu\n",
    "# %pip install faiss-cpu"
   ]
  },
  {
   "cell_type": "code",
   "execution_count": 10,
   "metadata": {},
   "outputs": [
    {
     "name": "stdout",
     "output_type": "stream",
     "text": [
      "Requirement already satisfied: google.cloud.storage in /usr/local/lib/python3.11/site-packages (2.10.0)\n",
      "Requirement already satisfied: google-auth<3.0dev,>=1.25.0 in /usr/local/lib/python3.11/site-packages (from google.cloud.storage) (2.17.1)\n",
      "Requirement already satisfied: google-api-core!=2.0.*,!=2.1.*,!=2.2.*,!=2.3.0,<3.0.0dev,>=1.31.5 in /usr/local/lib/python3.11/site-packages (from google.cloud.storage) (2.11.0)\n",
      "Requirement already satisfied: google-cloud-core<3.0dev,>=2.3.0 in /usr/local/lib/python3.11/site-packages (from google.cloud.storage) (2.3.3)\n",
      "Requirement already satisfied: google-resumable-media>=2.3.2 in /usr/local/lib/python3.11/site-packages (from google.cloud.storage) (2.5.0)\n",
      "Requirement already satisfied: requests<3.0.0dev,>=2.18.0 in /usr/local/lib/python3.11/site-packages (from google.cloud.storage) (2.28.2)\n",
      "Requirement already satisfied: googleapis-common-protos<2.0dev,>=1.56.2 in /usr/local/lib/python3.11/site-packages (from google-api-core!=2.0.*,!=2.1.*,!=2.2.*,!=2.3.0,<3.0.0dev,>=1.31.5->google.cloud.storage) (1.59.0)\n",
      "Requirement already satisfied: protobuf!=3.20.0,!=3.20.1,!=4.21.0,!=4.21.1,!=4.21.2,!=4.21.3,!=4.21.4,!=4.21.5,<5.0.0dev,>=3.19.5 in /usr/local/lib/python3.11/site-packages (from google-api-core!=2.0.*,!=2.1.*,!=2.2.*,!=2.3.0,<3.0.0dev,>=1.31.5->google.cloud.storage) (4.24.1)\n",
      "Requirement already satisfied: cachetools<6.0,>=2.0.0 in /usr/local/lib/python3.11/site-packages (from google-auth<3.0dev,>=1.25.0->google.cloud.storage) (5.3.0)\n",
      "Requirement already satisfied: pyasn1-modules>=0.2.1 in /usr/local/lib/python3.11/site-packages (from google-auth<3.0dev,>=1.25.0->google.cloud.storage) (0.2.8)\n",
      "Requirement already satisfied: six>=1.9.0 in /usr/local/lib/python3.11/site-packages (from google-auth<3.0dev,>=1.25.0->google.cloud.storage) (1.16.0)\n",
      "Requirement already satisfied: rsa<5,>=3.1.4 in /usr/local/lib/python3.11/site-packages (from google-auth<3.0dev,>=1.25.0->google.cloud.storage) (4.9)\n",
      "Requirement already satisfied: google-crc32c<2.0dev,>=1.0 in /usr/local/lib/python3.11/site-packages (from google-resumable-media>=2.3.2->google.cloud.storage) (1.5.0)\n",
      "Requirement already satisfied: charset-normalizer<4,>=2 in /usr/local/lib/python3.11/site-packages (from requests<3.0.0dev,>=2.18.0->google.cloud.storage) (3.1.0)\n",
      "Requirement already satisfied: idna<4,>=2.5 in /usr/local/lib/python3.11/site-packages (from requests<3.0.0dev,>=2.18.0->google.cloud.storage) (3.4)\n",
      "Requirement already satisfied: urllib3<1.27,>=1.21.1 in /usr/local/lib/python3.11/site-packages (from requests<3.0.0dev,>=2.18.0->google.cloud.storage) (1.26.16)\n",
      "Requirement already satisfied: certifi>=2017.4.17 in /usr/local/lib/python3.11/site-packages (from requests<3.0.0dev,>=2.18.0->google.cloud.storage) (2022.12.7)\n",
      "Requirement already satisfied: pyasn1<0.5.0,>=0.4.6 in /usr/local/lib/python3.11/site-packages (from pyasn1-modules>=0.2.1->google-auth<3.0dev,>=1.25.0->google.cloud.storage) (0.4.8)\n",
      "Note: you may need to restart the kernel to use updated packages.\n"
     ]
    }
   ],
   "source": [
    "pip install google.cloud.storage"
   ]
  },
  {
   "cell_type": "code",
   "execution_count": 11,
   "metadata": {},
   "outputs": [],
   "source": [
    "import openai\n",
    "import os\n",
    "\n",
    "#os.environ[\"OPENAI_API_KEY\"] =\n",
    "openai.api_key = \"xxx\""
   ]
  },
  {
   "cell_type": "code",
   "execution_count": 12,
   "metadata": {},
   "outputs": [
    {
     "name": "stdout",
     "output_type": "stream",
     "text": [
      "First 400 Characters of the Document: \n",
      "SEGURO DE PROTECCIÓN PATRIMONIAL TARJETAHABIENTES 27/09/2021-1327-P-06-RC-0000000000046-0R00\n",
      "\n",
      "CONDICIONES GENERALES\n",
      "\n",
      "ASEGURADO Es el titular de la(s) tarjetas(s) débito o crédito expedidos por el B a n c o D a v i v i e n d a y q u i e n voluntariamente se adhiere a la póliza.\n",
      "\n",
      "le Seguros Comerciales Bolívar en adelante reconocerá al o beneficiario, el pago del valor asegurado, hasta el número y v...\n"
     ]
    }
   ],
   "source": [
    "from langchain.document_loaders import UnstructuredFileLoader\n",
    "from google.cloud import storage\n",
    "from google.oauth2 import service_account\n",
    "import tempfile\n",
    "import os\n",
    "\n",
    "def extract_file_content(file_path):\n",
    "    loader = UnstructuredFileLoader(file_path)\n",
    "    documents = loader.load()\n",
    "    documents_content = '\\n'.join(doc.page_content for doc in documents)\n",
    "    return documents_content\n",
    "\n",
    "def download_file_from_gcs(bucket_name, file_name, service_account_json):\n",
    "    \"\"\"Downloads a file from Google Cloud Storage and returns its content as bytes.\n",
    "\n",
    "    Args:\n",
    "        bucket_name (str): The name of the Google Cloud Storage bucket.\n",
    "        file_name (str): The name of the file to download.\n",
    "        service_account_json (str): The path to the service account JSON file.\n",
    "\n",
    "    Returns:\n",
    "        str: The local path to the downloaded file.\n",
    "    \"\"\"\n",
    "    # Load the service account credentials from the JSON file.\n",
    "    credentials = service_account.Credentials.from_service_account_file(service_account_json)\n",
    "\n",
    "    # Create a storage client with the loaded credentials.\n",
    "    client = storage.Client(credentials=credentials)\n",
    "\n",
    "    bucket = client.bucket(bucket_name)\n",
    "    file_object = bucket.blob(file_name)\n",
    "\n",
    "    # Check if the object exists and fetch its content.\n",
    "    if not file_object.exists():\n",
    "        raise FileNotFoundError(f\"The object '{file_name}' does not exist in the bucket '{bucket_name}'.\")\n",
    "\n",
    "    # Create a temporary directory to store the downloaded file.\n",
    "    temp_dir = tempfile.mkdtemp()\n",
    "    local_file_path = os.path.join(temp_dir, file_name)\n",
    "\n",
    "    # Download the file to the temporary directory.\n",
    "    file_object.download_to_filename(local_file_path)\n",
    "\n",
    "    return local_file_path\n",
    "\n",
    "if __name__ == \"__main__\":\n",
    "    bucket_name = \"clausulados\"\n",
    "    file_name = \"Prot_tarj.pdf\"\n",
    "    service_account_json = \"service_account_key.json\"  # Replace with the actual path to your service account JSON file.\n",
    "    max_characters = 400\n",
    "\n",
    "    # Download the file from Google Cloud Storage\n",
    "    local_file_path = download_file_from_gcs(bucket_name, file_name, service_account_json)\n",
    "\n",
    "    # Extract the content using the UnstructuredFileLoader and limit to the first 400 characters\n",
    "    extracted_content = extract_file_content(local_file_path)\n",
    "\n",
    "    # Now 'extracted_content' contains the first 400 characters of the text extracted from the PDF.\n",
    "    print(f\"First {max_characters} Characters of the Document: \\n{extracted_content[:max_characters]}...\")\n"
   ]
  },
  {
   "cell_type": "code",
   "execution_count": 13,
   "metadata": {},
   "outputs": [],
   "source": [
    "from langchain.text_splitter import CharacterTextSplitter\n",
    "text_splitter = CharacterTextSplitter(\n",
    "    separator = '\\n\\n',\n",
    "    chunk_size = 1000,\n",
    "    chunk_overlap = 200,\n",
    "    length_function = len\n",
    ")"
   ]
  },
  {
   "cell_type": "code",
   "execution_count": 14,
   "metadata": {},
   "outputs": [
    {
     "name": "stdout",
     "output_type": "stream",
     "text": [
      "# Chunks in document : {15}\n"
     ]
    }
   ],
   "source": [
    "document_chunks = text_splitter.split_text(extracted_content)\n",
    "print(f\"# Chunks in document :\", {len(document_chunks)})"
   ]
  },
  {
   "cell_type": "code",
   "execution_count": 26,
   "metadata": {},
   "outputs": [
    {
     "name": "stdout",
     "output_type": "stream",
     "text": [
      "# Chunks in document : {15}\n"
     ]
    }
   ],
   "source": [
    "from vertexai.language_models import TextEmbeddingModel\n",
    "from google.cloud import aiplatform\n",
    "\n",
    "aiplatform.init(project=\"llama-test-396816\")\n",
    "def text_embedding(chunks: list) -> list:\n",
    "    \"\"\"Text embedding with a Large Language Model.\"\"\"\n",
    "    model = TextEmbeddingModel.from_pretrained(\"textembedding-gecko@001\")\n",
    "    embeddings = []\n",
    "    for chunk in chunks:\n",
    "        embeddings.append(model.get_embeddings([chunk]))\n",
    "    return embeddings\n",
    "\n",
    "\n",
    "document_chunks = text_splitter.split_text(extracted_content)\n",
    "print(f\"# Chunks in document :\", {len(document_chunks)})\n",
    "embeddings = text_embedding(document_chunks)\n",
    "\n",
    "print(embeddings)"
   ]
  },
  {
   "cell_type": "code",
   "execution_count": null,
   "metadata": {},
   "outputs": [],
   "source": []
  }
 ],
 "metadata": {
  "kernelspec": {
   "display_name": "Python 3",
   "language": "python",
   "name": "python3"
  },
  "language_info": {
   "codemirror_mode": {
    "name": "ipython",
    "version": 3
   },
   "file_extension": ".py",
   "mimetype": "text/x-python",
   "name": "python",
   "nbconvert_exporter": "python",
   "pygments_lexer": "ipython3",
   "version": "3.11.2"
  },
  "orig_nbformat": 4
 },
 "nbformat": 4,
 "nbformat_minor": 2
}
